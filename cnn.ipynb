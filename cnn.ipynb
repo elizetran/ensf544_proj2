{
 "cells": [
  {
   "cell_type": "markdown",
   "metadata": {},
   "source": [
    "# ENSF 544 Project 2 - CNN"
   ]
  },
  {
   "cell_type": "code",
   "execution_count": 34,
   "metadata": {},
   "outputs": [],
   "source": [
    "import tensorflow as tf\n",
    "\n",
    "from tensorflow.keras import layers, models\n",
    "import matplotlib.pyplot as plt\n",
    "\n",
    "training_dir = \"dataset/asl_alphabet_train\"\n",
    "test_dir = \"dataset/asl_alphabet_test\""
   ]
  },
  {
   "cell_type": "code",
   "execution_count": 35,
   "metadata": {},
   "outputs": [],
   "source": [
    "import os.path\n",
    "import cv2 \n",
    "import numpy as np\n",
    "\n",
    "def load_data(directory):\n",
    "    images = []\n",
    "    labels = []\n",
    "\n",
    "    # image size\n",
    "    size = 32,32\n",
    "\n",
    "    # Iterate through each image in each subfolder\n",
    "    for folder in os.listdir(directory):\n",
    "        for image in os.listdir(directory + \"/\" + folder):\n",
    "            temp_img = cv2.imread(directory + '/' + folder + '/' + image)\n",
    "            \n",
    "            if temp_img is None:\n",
    "                continue\n",
    "            # Resize the images to optimal size for keras\n",
    "            temp_img = cv2.resize(temp_img, size)\n",
    "            images.append(temp_img)\n",
    "            labels.append(folder)\n",
    "\n",
    "    # Convert to a numpy array\n",
    "    images = np.array(images)\n",
    "\n",
    "    # Normalize the images\n",
    "    images = images.astype('float32')/255.0\n",
    "    \n",
    "    return images, labels"
   ]
  },
  {
   "cell_type": "code",
   "execution_count": 36,
   "metadata": {},
   "outputs": [],
   "source": [
    "from sklearn.model_selection import train_test_split\n",
    "\n",
    "X_train, y_train = load_data(training_dir)\n",
    "X_train, X_valid, y_train, y_valid = train_test_split(X_train, y_train, random_state=0, test_size=0.2)"
   ]
  },
  {
   "cell_type": "code",
   "execution_count": 37,
   "metadata": {},
   "outputs": [],
   "source": [
    "X_test, y_test = load_data(test_dir)"
   ]
  },
  {
   "cell_type": "code",
   "execution_count": 38,
   "metadata": {},
   "outputs": [],
   "source": [
    "from tensorflow.keras.utils import to_categorical\n",
    "\n",
    "classes = ['A', 'B', 'C', 'D', 'del', 'E', 'F', 'G', 'H', 'I', 'J', 'K', \n",
    "           'L', 'M', 'N', 'nothing', 'O', 'P', 'Q', 'R', 'S', 'space', 'T', 'U', 'V', \n",
    "           'W', 'X', 'Y', 'Z']\n",
    "\n",
    "num_classes = len(classes)\n",
    "\n",
    "y_train = list((map(lambda letter : classes.index(letter), y_train)))\n",
    "y_valid = list((map(lambda letter : classes.index(letter), y_valid)))\n",
    "y_test = list((map(lambda letter : classes.index(letter), y_test)))\n",
    "\n",
    "y_train = to_categorical(y_train, num_classes)\n",
    "y_valid = to_categorical(y_valid, num_classes)\n",
    "y_test = to_categorical(y_test, num_classes)"
   ]
  },
  {
   "cell_type": "code",
   "execution_count": 39,
   "metadata": {},
   "outputs": [
    {
     "name": "stdout",
     "output_type": "stream",
     "text": [
      "Model: \"sequential_3\"\n",
      "_________________________________________________________________\n",
      " Layer (type)                Output Shape              Param #   \n",
      "=================================================================\n",
      " conv2d_9 (Conv2D)           (None, 32, 32, 32)        896       \n",
      "                                                                 \n",
      " max_pooling2d_6 (MaxPooling  (None, 16, 16, 32)       0         \n",
      " 2D)                                                             \n",
      "                                                                 \n",
      " conv2d_10 (Conv2D)          (None, 16, 16, 64)        18496     \n",
      "                                                                 \n",
      " max_pooling2d_7 (MaxPooling  (None, 8, 8, 64)         0         \n",
      " 2D)                                                             \n",
      "                                                                 \n",
      " conv2d_11 (Conv2D)          (None, 8, 8, 64)          36928     \n",
      "                                                                 \n",
      " flatten_3 (Flatten)         (None, 4096)              0         \n",
      "                                                                 \n",
      " dropout_1 (Dropout)         (None, 4096)              0         \n",
      "                                                                 \n",
      " dense_6 (Dense)             (None, 64)                262208    \n",
      "                                                                 \n",
      " dense_7 (Dense)             (None, 29)                1885      \n",
      "                                                                 \n",
      "=================================================================\n",
      "Total params: 320,413\n",
      "Trainable params: 320,413\n",
      "Non-trainable params: 0\n",
      "_________________________________________________________________\n"
     ]
    }
   ],
   "source": [
    "model = models.Sequential()\n",
    "\n",
    "model.add(layers.Conv2D(32, (3, 3), padding='same', activation='relu', input_shape=(32, 32, 3)))\n",
    "model.add(layers.MaxPooling2D((2, 2)))\n",
    "model.add(layers.Conv2D(64, (3, 3), padding='same', activation='relu'))\n",
    "model.add(layers.MaxPooling2D((2, 2)))\n",
    "model.add(layers.Conv2D(64, (3, 3), padding='same', activation='relu'))\n",
    "\n",
    "model.add(layers.Flatten())\n",
    "\n",
    "model.add(layers.Dropout(rate=0.5))\n",
    "model.add(layers.Dense(64, activation='sigmoid'))\n",
    "\n",
    "model.add(layers.Dense(29, activation='softmax'))\n",
    "\n",
    "model.summary()"
   ]
  },
  {
   "cell_type": "code",
   "execution_count": 40,
   "metadata": {},
   "outputs": [],
   "source": [
    "model.compile(loss=\"categorical_crossentropy\", optimizer=\"adam\", metrics=[\"accuracy\"])"
   ]
  },
  {
   "cell_type": "code",
   "execution_count": 42,
   "metadata": {},
   "outputs": [
    {
     "name": "stdout",
     "output_type": "stream",
     "text": [
      "Epoch 1/15\n",
      "544/544 [==============================] - 65s 118ms/step - loss: 2.1369 - accuracy: 0.4137 - val_loss: 1.1004 - val_accuracy: 0.7287\n",
      "Epoch 2/15\n",
      "544/544 [==============================] - 64s 118ms/step - loss: 0.8622 - accuracy: 0.7822 - val_loss: 0.4611 - val_accuracy: 0.9149\n",
      "Epoch 3/15\n",
      "544/544 [==============================] - 64s 117ms/step - loss: 0.4519 - accuracy: 0.8955 - val_loss: 0.2394 - val_accuracy: 0.9607\n",
      "Epoch 4/15\n",
      "544/544 [==============================] - 64s 118ms/step - loss: 0.2739 - accuracy: 0.9393 - val_loss: 0.1253 - val_accuracy: 0.9823\n",
      "Epoch 5/15\n",
      "544/544 [==============================] - 66s 121ms/step - loss: 0.1832 - accuracy: 0.9615 - val_loss: 0.0772 - val_accuracy: 0.9889\n",
      "Epoch 6/15\n",
      "544/544 [==============================] - 71s 130ms/step - loss: 0.1332 - accuracy: 0.9718 - val_loss: 0.0537 - val_accuracy: 0.9930\n",
      "Epoch 7/15\n",
      "544/544 [==============================] - 66s 121ms/step - loss: 0.0985 - accuracy: 0.9798 - val_loss: 0.0501 - val_accuracy: 0.9904\n",
      "Epoch 8/15\n",
      "544/544 [==============================] - 72s 133ms/step - loss: 0.0799 - accuracy: 0.9828 - val_loss: 0.0263 - val_accuracy: 0.9966\n",
      "Epoch 9/15\n",
      "544/544 [==============================] - 68s 124ms/step - loss: 0.0646 - accuracy: 0.9863 - val_loss: 0.0246 - val_accuracy: 0.9956\n",
      "Epoch 10/15\n",
      "544/544 [==============================] - 76s 140ms/step - loss: 0.0588 - accuracy: 0.9863 - val_loss: 0.0175 - val_accuracy: 0.9980\n",
      "Epoch 11/15\n",
      "544/544 [==============================] - 67s 124ms/step - loss: 0.0504 - accuracy: 0.9879 - val_loss: 0.0159 - val_accuracy: 0.9978\n",
      "Epoch 12/15\n",
      "544/544 [==============================] - 322s 593ms/step - loss: 0.0415 - accuracy: 0.9903 - val_loss: 0.0114 - val_accuracy: 0.9987\n",
      "Epoch 13/15\n",
      "544/544 [==============================] - 1193s 2s/step - loss: 0.0379 - accuracy: 0.9910 - val_loss: 0.0097 - val_accuracy: 0.9988\n",
      "Epoch 14/15\n",
      "544/544 [==============================] - 57s 105ms/step - loss: 0.0344 - accuracy: 0.9916 - val_loss: 0.0087 - val_accuracy: 0.9987\n",
      "Epoch 15/15\n",
      "544/544 [==============================] - 55s 101ms/step - loss: 0.0341 - accuracy: 0.9911 - val_loss: 0.0076 - val_accuracy: 0.9987\n"
     ]
    },
    {
     "data": {
      "text/plain": [
       "<keras.callbacks.History at 0x7fc412ab3e50>"
      ]
     },
     "execution_count": 42,
     "metadata": {},
     "output_type": "execute_result"
    }
   ],
   "source": [
    "batch_size = 128\n",
    "epochs = 15\n",
    "\n",
    "model.fit(X_train, y_train, batch_size=batch_size, epochs=epochs, validation_data=(X_valid, y_valid))"
   ]
  },
  {
   "cell_type": "code",
   "execution_count": 43,
   "metadata": {},
   "outputs": [
    {
     "name": "stdout",
     "output_type": "stream",
     "text": [
      "Test accuracy: 1.0\n"
     ]
    }
   ],
   "source": [
    "score = model.evaluate(X_test, y_test, verbose=0)\n",
    "print('Test accuracy:', score[1])"
   ]
  },
  {
   "cell_type": "code",
   "execution_count": 48,
   "metadata": {},
   "outputs": [
    {
     "name": "stdout",
     "output_type": "stream",
     "text": [
      "1/1 [==============================] - 0s 32ms/step\n"
     ]
    }
   ],
   "source": [
    "y_pred = model.predict(X_test)\n",
    "\n",
    "y_pred = np.argmax(y_pred, axis=1)\n",
    "y_test = np.argmax(y_test, axis=1)"
   ]
  },
  {
   "cell_type": "code",
   "execution_count": 57,
   "metadata": {},
   "outputs": [
    {
     "data": {
      "image/png": "[encoded data removed]",
      "text/plain": [
       "<Figure size 720x720 with 2 Axes>"
      ]
     },
     "metadata": {
      "needs_background": "light"
     },
     "output_type": "display_data"
    }
   ],
   "source": [
    "from sklearn.metrics import confusion_matrix\n",
    "\n",
    "cm = confusion_matrix(y_test, y_pred)\n",
    "fig = plt.figure()\n",
    "fig.set_figheight(10)\n",
    "fig.set_figwidth(10)\n",
    "plt.clf()\n",
    "ax = fig.add_subplot(111)\n",
    "ax.set_aspect(1)\n",
    "res = ax.imshow(np.array(cm), cmap=plt.cm.jet, \n",
    "                interpolation='nearest')\n",
    "\n",
    "width, height = cm.shape\n",
    "\n",
    "for x in range(width):\n",
    "    for y in range(height):\n",
    "        ax.annotate(str(cm[x][y]), xy=(y, x), \n",
    "                    horizontalalignment='center',\n",
    "                    verticalalignment='center')\n",
    "\n",
    "cb = fig.colorbar(res)\n",
    "plt.xticks(range(width), classes[:width], rotation=45, ha=\"right\")\n",
    "plt.yticks(range(height), classes[:height])\n",
    "plt.title('ASL Alphabet Classification Confusion Matrix')\n",
    "plt.xlabel(\"Predicted Label\")\n",
    "plt.ylabel(\"Actual Label\")\n",
    "plt.savefig('confusion_matrix.png', format='png')"
   ]
  }
 ],
 "metadata": {
  "kernelspec": {
   "display_name": "Python 3.7.6 ('base')",
   "language": "python",
   "name": "python3"
  },
  "language_info": {
   "codemirror_mode": {
    "name": "ipython",
    "version": 3
   },
   "file_extension": ".py",
   "mimetype": "text/x-python",
   "name": "python",
   "nbconvert_exporter": "python",
   "pygments_lexer": "ipython3",
   "version": "3.7.6"
  },
  "orig_nbformat": 4,
  "vscode": {
   "interpreter": {
    "hash": "873bb8f333cfc5bf5f095512c3cb10b91d904deb4ba0659db4d526ee9214ee1c"
   }
  }
 },
 "nbformat": 4,
 "nbformat_minor": 2
}

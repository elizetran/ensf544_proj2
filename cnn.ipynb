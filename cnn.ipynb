{
 "cells": [
  {
   "cell_type": "markdown",
   "metadata": {},
   "source": [
    "# ENSF 544 Project 2 - CNN"
   ]
  },
  {
   "cell_type": "code",
   "execution_count": 267,
   "metadata": {},
   "outputs": [],
   "source": [
    "import tensorflow as tf\n",
    "\n",
    "from tensorflow.keras import layers, models\n",
    "import matplotlib.pyplot as plt\n",
    "\n",
    "training_dir = \"dataset/asl_alphabet_train\"\n",
    "test_dir = \"dataset/asl_alphabet_test\""
   ]
  },
  {
   "cell_type": "code",
   "execution_count": 268,
   "metadata": {},
   "outputs": [],
   "source": [
    "import os.path\n",
    "import cv2\n",
    "import numpy as np\n",
    "\n",
    "def load_data(directory):\n",
    "    images = []\n",
    "    labels = []\n",
    "\n",
    "    # image size\n",
    "    size = 32,32\n",
    "\n",
    "    # Iterate through each image in each subfolder\n",
    "    for folder in os.listdir(directory):\n",
    "        for image in os.listdir(directory + \"/\" + folder):\n",
    "\n",
    "            temp_img = cv2.imread(directory + '/' + folder + '/' + image)\n",
    "            if temp_img is None:\n",
    "                continue\n",
    "\n",
    "            # Resize the images\n",
    "            temp_img = cv2.resize(temp_img, size)\n",
    "            # Run edge detection to isolate valuable sections of image\n",
    "            temp_img = cv2.Canny(temp_img,100,200)\n",
    "            \n",
    "            images.append(temp_img)\n",
    "            labels.append(folder)\n",
    "\n",
    "    # Convert to a numpy array\n",
    "    images = np.array(images)\n",
    "\n",
    "    # Normalize the images\n",
    "    images = images.astype('float32')/255.0\n",
    "    \n",
    "    return images, labels"
   ]
  },
  {
   "cell_type": "code",
   "execution_count": 258,
   "metadata": {},
   "outputs": [],
   "source": [
    "from sklearn.model_selection import train_test_split\n",
    "\n",
    "X_train, y_train = load_data(training_dir)\n",
    "X_train, X_valid, y_train, y_valid = train_test_split(X_train, y_train, random_state=0, test_size=0.2)"
   ]
  },
  {
   "cell_type": "code",
   "execution_count": 259,
   "metadata": {},
   "outputs": [],
   "source": [
    "X_test, y_test = load_data(test_dir)"
   ]
  },
  {
   "cell_type": "code",
   "execution_count": 260,
   "metadata": {},
   "outputs": [],
   "source": [
    "from tensorflow.keras.utils import to_categorical\n",
    "\n",
    "classes = ['A', 'B', 'C', 'D', 'del', 'E', 'F', 'G', 'H', 'I', 'J', 'K', \n",
    "           'L', 'M', 'N', 'nothing', 'O', 'P', 'Q', 'R', 'S', 'space', 'T', 'U', 'V', \n",
    "           'W', 'X', 'Y', 'Z']\n",
    "\n",
    "num_classes = len(classes)\n",
    "\n",
    "y_train = list((map(lambda letter : classes.index(letter), y_train)))\n",
    "y_valid = list((map(lambda letter : classes.index(letter), y_valid)))\n",
    "y_test = list((map(lambda letter : classes.index(letter), y_test)))\n",
    "\n",
    "y_train = to_categorical(y_train, num_classes)\n",
    "y_valid = to_categorical(y_valid, num_classes)\n",
    "y_test = to_categorical(y_test, num_classes)"
   ]
  },
  {
   "cell_type": "code",
   "execution_count": 261,
   "metadata": {},
   "outputs": [
    {
     "name": "stdout",
     "output_type": "stream",
     "text": [
      "Model: \"sequential_9\"\n",
      "_________________________________________________________________\n",
      " Layer (type)                Output Shape              Param #   \n",
      "=================================================================\n",
      " conv2d_25 (Conv2D)          (None, 32, 32, 32)        320       \n",
      "                                                                 \n",
      " max_pooling2d_16 (MaxPoolin  (None, 16, 16, 32)       0         \n",
      " g2D)                                                            \n",
      "                                                                 \n",
      " conv2d_26 (Conv2D)          (None, 16, 16, 64)        18496     \n",
      "                                                                 \n",
      " max_pooling2d_17 (MaxPoolin  (None, 8, 8, 64)         0         \n",
      " g2D)                                                            \n",
      "                                                                 \n",
      " conv2d_27 (Conv2D)          (None, 8, 8, 64)          36928     \n",
      "                                                                 \n",
      " flatten_8 (Flatten)         (None, 4096)              0         \n",
      "                                                                 \n",
      " dropout_8 (Dropout)         (None, 4096)              0         \n",
      "                                                                 \n",
      " dense_16 (Dense)            (None, 64)                262208    \n",
      "                                                                 \n",
      " dense_17 (Dense)            (None, 29)                1885      \n",
      "                                                                 \n",
      "=================================================================\n",
      "Total params: 319,837\n",
      "Trainable params: 319,837\n",
      "Non-trainable params: 0\n",
      "_________________________________________________________________\n"
     ]
    }
   ],
   "source": [
    "model = models.Sequential()\n",
    "\n",
    "model.add(layers.Conv2D(32, (3, 3), padding='same', activation='relu', input_shape=(32, 32, 1)))\n",
    "model.add(layers.MaxPooling2D((2, 2)))\n",
    "model.add(layers.Conv2D(64, (3, 3), padding='same', activation='relu'))\n",
    "model.add(layers.MaxPooling2D((2, 2)))\n",
    "model.add(layers.Conv2D(64, (3, 3), padding='same', activation='relu'))\n",
    "\n",
    "model.add(layers.Flatten())\n",
    "\n",
    "model.add(layers.Dropout(rate=0.5))\n",
    "model.add(layers.Dense(64, activation='sigmoid'))\n",
    "\n",
    "model.add(layers.Dense(29, activation='softmax'))\n",
    "\n",
    "model.summary()"
   ]
  },
  {
   "cell_type": "code",
   "execution_count": 262,
   "metadata": {},
   "outputs": [],
   "source": [
    "model.compile(loss=\"categorical_crossentropy\", optimizer=\"adam\", metrics=[\"accuracy\"])"
   ]
  },
  {
   "cell_type": "code",
   "execution_count": 263,
   "metadata": {},
   "outputs": [
    {
     "name": "stdout",
     "output_type": "stream",
     "text": [
      "Epoch 1/15\n",
      "544/544 [==============================] - 70s 125ms/step - loss: 1.8580 - accuracy: 0.5088 - val_loss: 0.8988 - val_accuracy: 0.7832\n",
      "Epoch 2/15\n",
      "544/544 [==============================] - 61s 112ms/step - loss: 0.7446 - accuracy: 0.8069 - val_loss: 0.4342 - val_accuracy: 0.8981\n",
      "Epoch 3/15\n",
      "544/544 [==============================] - 68s 124ms/step - loss: 0.4514 - accuracy: 0.8810 - val_loss: 0.2781 - val_accuracy: 0.9346\n",
      "Epoch 4/15\n",
      "544/544 [==============================] - 65s 119ms/step - loss: 0.3190 - accuracy: 0.9151 - val_loss: 0.1918 - val_accuracy: 0.9525\n",
      "Epoch 5/15\n",
      "544/544 [==============================] - 55s 101ms/step - loss: 0.2446 - accuracy: 0.9346 - val_loss: 0.1493 - val_accuracy: 0.9634\n",
      "Epoch 6/15\n",
      "544/544 [==============================] - 54s 99ms/step - loss: 0.2013 - accuracy: 0.9445 - val_loss: 0.1202 - val_accuracy: 0.9697\n",
      "Epoch 7/15\n",
      "544/544 [==============================] - 64s 117ms/step - loss: 0.1644 - accuracy: 0.9546 - val_loss: 0.1017 - val_accuracy: 0.9732\n",
      "Epoch 8/15\n",
      "544/544 [==============================] - 66s 121ms/step - loss: 0.1442 - accuracy: 0.9601 - val_loss: 0.0896 - val_accuracy: 0.9751\n",
      "Epoch 9/15\n",
      "544/544 [==============================] - 67s 122ms/step - loss: 0.1256 - accuracy: 0.9644 - val_loss: 0.0777 - val_accuracy: 0.9783\n",
      "Epoch 10/15\n",
      "544/544 [==============================] - 68s 125ms/step - loss: 0.1123 - accuracy: 0.9681 - val_loss: 0.0688 - val_accuracy: 0.9820\n",
      "Epoch 11/15\n",
      "544/544 [==============================] - 62s 114ms/step - loss: 0.0974 - accuracy: 0.9722 - val_loss: 0.0605 - val_accuracy: 0.9828\n",
      "Epoch 12/15\n",
      "544/544 [==============================] - 65s 120ms/step - loss: 0.0899 - accuracy: 0.9743 - val_loss: 0.0604 - val_accuracy: 0.9824\n",
      "Epoch 13/15\n",
      "544/544 [==============================] - 66s 121ms/step - loss: 0.0808 - accuracy: 0.9762 - val_loss: 0.0604 - val_accuracy: 0.9816\n",
      "Epoch 14/15\n",
      "544/544 [==============================] - 65s 120ms/step - loss: 0.0782 - accuracy: 0.9774 - val_loss: 0.0496 - val_accuracy: 0.9853\n",
      "Epoch 15/15\n",
      "544/544 [==============================] - 64s 117ms/step - loss: 0.0700 - accuracy: 0.9799 - val_loss: 0.0438 - val_accuracy: 0.9876\n"
     ]
    },
    {
     "data": {
      "text/plain": [
       "<keras.callbacks.History at 0x7fbf1fe93110>"
      ]
     },
     "execution_count": 263,
     "metadata": {},
     "output_type": "execute_result"
    }
   ],
   "source": [
    "batch_size = 128\n",
    "epochs = 15\n",
    "\n",
    "model.fit(X_train, y_train, batch_size=batch_size, epochs=epochs, validation_data=(X_valid, y_valid))"
   ]
  },
  {
   "cell_type": "code",
   "execution_count": 274,
   "metadata": {},
   "outputs": [
    {
     "data": {
      "image/png": "[encoded data removed]",
      "text/plain": [
       "<Figure size 432x288 with 2 Axes>"
      ]
     },
     "metadata": {},
     "output_type": "display_data"
    }
   ],
   "source": [
    "X_test, y_test = load_data(test_dir)\n",
    "y_test = list((map(lambda letter : classes.index(letter), y_test)))\n",
    "y_test = to_categorical(y_test, num_classes)\n",
    "\n",
    "temp_img = cv2.imread(test_dir + '/' + 'X' + '/' + 'X_ET1.jpg')\n",
    "temp_img = cv2.resize(temp_img, (32,32))\n",
    "\n",
    "edges = cv2.Canny(temp_img,100,200)\n",
    "# edges = cv2.resize(edges, (32,32))\n",
    "\n",
    "plt.subplot(121),plt.imshow(temp_img,cmap = 'gray')\n",
    "plt.title('Original Image'), plt.xticks([]), plt.yticks([])\n",
    "plt.subplot(122),plt.imshow(edges,cmap = 'gray')\n",
    "plt.title('Edge Image'), plt.xticks([]), plt.yticks([])\n",
    "plt.show()"
   ]
  },
  {
   "cell_type": "code",
   "execution_count": 271,
   "metadata": {},
   "outputs": [
    {
     "name": "stdout",
     "output_type": "stream",
     "text": [
      "Test accuracy: 0.8448275923728943\n"
     ]
    }
   ],
   "source": [
    "score = model.evaluate(X_test, y_test, verbose=0)\n",
    "print('Test accuracy:', score[1])"
   ]
  },
  {
   "cell_type": "code",
   "execution_count": 272,
   "metadata": {},
   "outputs": [
    {
     "name": "stdout",
     "output_type": "stream",
     "text": [
      "2/2 [==============================] - 0s 8ms/step\n"
     ]
    }
   ],
   "source": [
    "y_pred = model.predict(X_test)\n",
    "\n",
    "y_pred = np.argmax(y_pred, axis=1)\n",
    "y_test = np.argmax(y_test, axis=1)"
   ]
  },
  {
   "cell_type": "code",
   "execution_count": 273,
   "metadata": {},
   "outputs": [
    {
     "data": {
      "image/png": "[encoded data removed]",
      "text/plain": [
       "<Figure size 720x720 with 2 Axes>"
      ]
     },
     "metadata": {
      "needs_background": "light"
     },
     "output_type": "display_data"
    }
   ],
   "source": [
    "from sklearn.metrics import confusion_matrix\n",
    "\n",
    "cm = confusion_matrix(y_test, y_pred)\n",
    "fig = plt.figure()\n",
    "fig.set_figheight(10)\n",
    "fig.set_figwidth(10)\n",
    "plt.clf()\n",
    "ax = fig.add_subplot(111)\n",
    "ax.set_aspect(1)\n",
    "res = ax.imshow(np.array(cm), cmap=plt.cm.jet, \n",
    "                interpolation='nearest')\n",
    "\n",
    "width, height = cm.shape\n",
    "\n",
    "for x in range(width):\n",
    "    for y in range(height):\n",
    "        ax.annotate(str(cm[x][y]), xy=(y, x), \n",
    "                    horizontalalignment='center',\n",
    "                    verticalalignment='center')\n",
    "\n",
    "cb = fig.colorbar(res)\n",
    "plt.xticks(range(width), classes[:width], rotation=90)\n",
    "plt.yticks(range(height), classes[:height])\n",
    "plt.title('ASL Alphabet Classification Confusion Matrix')\n",
    "plt.xlabel(\"Predicted Label\")\n",
    "plt.ylabel(\"Actual Label\")\n",
    "plt.savefig('confusion_matrix.png', format='png')"
   ]
  }
 ],
 "metadata": {
  "kernelspec": {
   "display_name": "Python 3.7.6 ('base')",
   "language": "python",
   "name": "python3"
  },
  "language_info": {
   "codemirror_mode": {
    "name": "ipython",
    "version": 3
   },
   "file_extension": ".py",
   "mimetype": "text/x-python",
   "name": "python",
   "nbconvert_exporter": "python",
   "pygments_lexer": "ipython3",
   "version": "3.7.6"
  },
  "orig_nbformat": 4,
  "vscode": {
   "interpreter": {
    "hash": "873bb8f333cfc5bf5f095512c3cb10b91d904deb4ba0659db4d526ee9214ee1c"
   }
  }
 },
 "nbformat": 4,
 "nbformat_minor": 2
}
